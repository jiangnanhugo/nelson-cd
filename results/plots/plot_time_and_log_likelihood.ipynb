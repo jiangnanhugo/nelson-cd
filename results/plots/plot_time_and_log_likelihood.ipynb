{
 "cells": [
  {
   "cell_type": "code",
   "execution_count": 5,
   "id": "0606838a",
   "metadata": {
    "pycharm": {
     "is_executing": true,
     "name": "#%%\n"
    }
   },
   "outputs": [],
   "source": [
    "import seaborn as sns\n",
    "import matplotlib\n",
    "%matplotlib inline\n",
    "import matplotlib.pyplot as plt\n",
    "from matplotlib import rc\n",
    "palette=['#ff3b30', '#007aff']\n",
    "sns.set_style(\"ticks\")\n",
    "rc(\"font\", **{'family':'serif','serif':['Palatino Linotype'], 'size':15})\n",
    "import glob\n",
    "import os\n",
    "import ast\n",
    "import pandas as pd\n",
    "from tqdm import tqdm"
   ]
  },
  {
   "cell_type": "code",
   "execution_count": 6,
   "id": "b6b5cdbc",
   "metadata": {
    "pycharm": {
     "name": "#%%\n"
    }
   },
   "outputs": [],
   "source": [
    "def read_from_file(fname,label):\n",
    "    with open(fname,'r') as fr:\n",
    "        line=fr.read().split(\"\\n\")[-3]\n",
    "        dicts=ast.literal_eval(line[8:-1])\n",
    "        all_array=[]\n",
    "        labels=[]\n",
    "        for x in dicts:\n",
    "            freq=dicts[x]\n",
    "            cur=[x for _ in range(freq)]\n",
    "            one_label=[label for _ in range(freq)]\n",
    "            all_array+=cur\n",
    "            labels+=one_label\n",
    "        return all_array, labels\n",
    "    "
   ]
  },
  {
   "cell_type": "code",
   "execution_count": 7,
   "id": "832cdd7a",
   "metadata": {
    "pycharm": {
     "name": "#%%\n"
    }
   },
   "outputs": [
    {
     "name": "stderr",
     "output_type": "stream",
     "text": [
      "  0%|                                                                                             | 0/4 [00:00<?, ?it/s]\n"
     ]
    },
    {
     "ename": "FileNotFoundError",
     "evalue": "[Errno 2] No such file or directory: '../results/uniform_sample/rand-k-sat/5_300_300/randkcnf_5_300_300_0001.uniform.lll.log'",
     "output_type": "error",
     "traceback": [
      "\u001b[0;31m---------------------------------------------------------------------------\u001b[0m",
      "\u001b[0;31mFileNotFoundError\u001b[0m                         Traceback (most recent call last)",
      "Input \u001b[0;32mIn [7]\u001b[0m, in \u001b[0;36m<cell line: 2>\u001b[0;34m()\u001b[0m\n\u001b[1;32m     13\u001b[0m \u001b[38;5;28;01mfor\u001b[39;00m bi \u001b[38;5;129;01min\u001b[39;00m \u001b[38;5;28mrange\u001b[39m(\u001b[38;5;28mlen\u001b[39m(baselines)):\n\u001b[1;32m     14\u001b[0m     filename\u001b[38;5;241m=\u001b[39mos\u001b[38;5;241m.\u001b[39mpath\u001b[38;5;241m.\u001b[39mjoin(basepath, subcase, \u001b[38;5;124m\"\u001b[39m\u001b[38;5;124mrandkcnf_\u001b[39m\u001b[38;5;124m\"\u001b[39m\u001b[38;5;241m+\u001b[39msubcase\u001b[38;5;241m+\u001b[39m\u001b[38;5;124m\"\u001b[39m\u001b[38;5;124m_\u001b[39m\u001b[38;5;124m\"\u001b[39m\u001b[38;5;241m+\u001b[39mfid\u001b[38;5;241m+\u001b[39m\u001b[38;5;124m\"\u001b[39m\u001b[38;5;124m.\u001b[39m\u001b[38;5;124m\"\u001b[39m\u001b[38;5;241m+\u001b[39mtyped\u001b[38;5;241m+\u001b[39m\u001b[38;5;124m\"\u001b[39m\u001b[38;5;124m.\u001b[39m\u001b[38;5;124m\"\u001b[39m\u001b[38;5;241m+\u001b[39mbaselines[bi]\u001b[38;5;241m+\u001b[39m\u001b[38;5;124m\"\u001b[39m\u001b[38;5;124m.log\u001b[39m\u001b[38;5;124m\"\u001b[39m)\n\u001b[0;32m---> 15\u001b[0m     datas, labels\u001b[38;5;241m=\u001b[39m\u001b[43mread_from_file\u001b[49m\u001b[43m(\u001b[49m\u001b[43mfilename\u001b[49m\u001b[43m,\u001b[49m\u001b[43m \u001b[49m\u001b[43mnew_name_baselines\u001b[49m\u001b[43m[\u001b[49m\u001b[43mbi\u001b[49m\u001b[43m]\u001b[49m\u001b[43m)\u001b[49m\n\u001b[1;32m     16\u001b[0m     all_data \u001b[38;5;241m+\u001b[39m\u001b[38;5;241m=\u001b[39m datas\n\u001b[1;32m     17\u001b[0m     all_labels \u001b[38;5;241m+\u001b[39m\u001b[38;5;241m=\u001b[39m labels\n",
      "Input \u001b[0;32mIn [6]\u001b[0m, in \u001b[0;36mread_from_file\u001b[0;34m(fname, label)\u001b[0m\n\u001b[1;32m      1\u001b[0m \u001b[38;5;28;01mdef\u001b[39;00m \u001b[38;5;21mread_from_file\u001b[39m(fname,label):\n\u001b[0;32m----> 2\u001b[0m     \u001b[38;5;28;01mwith\u001b[39;00m \u001b[38;5;28;43mopen\u001b[39;49m\u001b[43m(\u001b[49m\u001b[43mfname\u001b[49m\u001b[43m,\u001b[49m\u001b[38;5;124;43m'\u001b[39;49m\u001b[38;5;124;43mr\u001b[39;49m\u001b[38;5;124;43m'\u001b[39;49m\u001b[43m)\u001b[49m \u001b[38;5;28;01mas\u001b[39;00m fr:\n\u001b[1;32m      3\u001b[0m         line\u001b[38;5;241m=\u001b[39mfr\u001b[38;5;241m.\u001b[39mread()\u001b[38;5;241m.\u001b[39msplit(\u001b[38;5;124m\"\u001b[39m\u001b[38;5;130;01m\\n\u001b[39;00m\u001b[38;5;124m\"\u001b[39m)[\u001b[38;5;241m-\u001b[39m\u001b[38;5;241m3\u001b[39m]\n\u001b[1;32m      4\u001b[0m         dicts\u001b[38;5;241m=\u001b[39mast\u001b[38;5;241m.\u001b[39mliteral_eval(line[\u001b[38;5;241m8\u001b[39m:\u001b[38;5;241m-\u001b[39m\u001b[38;5;241m1\u001b[39m])\n",
      "\u001b[0;31mFileNotFoundError\u001b[0m: [Errno 2] No such file or directory: '../results/uniform_sample/rand-k-sat/5_300_300/randkcnf_5_300_300_0001.uniform.lll.log'"
     ]
    }
   ],
   "source": [
    "basepath=\"../results/uniform_sample/rand-k-sat/\"\n",
    "for size in [300, 500, 700, 1000,1500]:\n",
    "    for typed in [\"uniform\",'weighted']:\n",
    "        subcase=\"5_{}_{}\".format(size, size)\n",
    "\n",
    "        baselines=['lll','nelson']\n",
    "        new_name_baselines=['LLL','Nelson (ours)']\n",
    "       \n",
    "        for i in tqdm(range(1,5)):\n",
    "                fid=str(i).zfill(4)\n",
    "                all_data=[]\n",
    "                all_labels=[]\n",
    "                for bi in range(len(baselines)):\n",
    "                    filename=os.path.join(basepath, subcase, \"randkcnf_\"+subcase+\"_\"+fid+\".\"+typed+\".\"+baselines[bi]+\".log\")\n",
    "                    datas, labels=read_from_file(filename, new_name_baselines[bi])\n",
    "                    all_data += datas\n",
    "                    all_labels += labels\n",
    "                df=pd.DataFrame({\n",
    "                    \"Number of resamples\": all_data,\n",
    "                    \" \": all_labels\n",
    "                })\n",
    "                \n",
    "                ax=sns.displot(data=df, x=\"Number of resamples\",hue=' ',kind='hist',\n",
    "                               palette=palette, alpha=0.9,\n",
    "                               bins=[0,5,10,15,20,25,30,35,40,45,50,55,60,65,70], \n",
    "                               height=3, aspect=1.7).set(title=\"|X|=|C|={}\".format(size))\n",
    "                ax.set(xlim=(0,70),ylim=(0, 100))\n",
    "                sns.move_legend(ax, \"upper left\", bbox_to_anchor=(0.3, 1))\n",
    "                fname=os.path.join(basepath, subcase,  \"randkcnf_\"+subcase+\"_\"+fid+\".\"+typed+\".pdf\")\n",
    "                plt.savefig(fname, bbox_inches='tight', pad_inches=0)\n",
    "                plt.close()"
   ]
  },
  {
   "cell_type": "code",
   "execution_count": null,
   "id": "c73f1939",
   "metadata": {
    "pycharm": {
     "name": "#%%\n"
    }
   },
   "outputs": [],
   "source": []
  },
  {
   "cell_type": "code",
   "execution_count": null,
   "id": "0bd2462e",
   "metadata": {
    "pycharm": {
     "name": "#%%\n"
    }
   },
   "outputs": [],
   "source": []
  },
  {
   "cell_type": "code",
   "execution_count": null,
   "id": "72ea8bf6",
   "metadata": {
    "pycharm": {
     "name": "#%%\n"
    }
   },
   "outputs": [],
   "source": []
  },
  {
   "cell_type": "code",
   "execution_count": null,
   "id": "608b3d66",
   "metadata": {
    "pycharm": {
     "name": "#%%\n"
    }
   },
   "outputs": [],
   "source": []
  }
 ],
 "metadata": {
  "kernelspec": {
   "display_name": "Python 3 (ipykernel)",
   "language": "python",
   "name": "python3"
  },
  "language_info": {
   "codemirror_mode": {
    "name": "ipython",
    "version": 3
   },
   "file_extension": ".py",
   "mimetype": "text/x-python",
   "name": "python",
   "nbconvert_exporter": "python",
   "pygments_lexer": "ipython3",
   "version": "3.9.12"
  }
 },
 "nbformat": 4,
 "nbformat_minor": 5
}
