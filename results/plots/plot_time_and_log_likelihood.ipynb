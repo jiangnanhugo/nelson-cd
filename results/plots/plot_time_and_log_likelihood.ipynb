{
 "cells": [
  {
   "cell_type": "code",
   "execution_count": 38,
   "id": "0606838a",
   "metadata": {
    "pycharm": {
     "is_executing": true,
     "name": "#%%\n"
    }
   },
   "outputs": [],
   "source": [
    "import seaborn as sns\n",
    "import matplotlib\n",
    "%matplotlib inline\n",
    "import matplotlib.pyplot as plt\n",
    "from matplotlib import rc\n",
    "palette=['#ff3b30', '#007aff']\n",
    "sns.set_style(\"ticks\")\n",
    "rc(\"font\", **{'family':'serif','serif':['Palatino Linotype'], 'size':15})\n",
    "import glob\n",
    "import os\n",
    "import ast\n",
    "import pandas as pd\n",
    "from tqdm import tqdm"
   ]
  },
  {
   "cell_type": "code",
   "execution_count": 39,
   "id": "b6b5cdbc",
   "metadata": {
    "pycharm": {
     "name": "#%%\n"
    }
   },
   "outputs": [],
   "source": [
    "def read_from_file(fname,label):\n",
    "    with open(fname,'r') as fr:\n",
    "        line=fr.read().split(\"\\n\")[-3]\n",
    "        dicts=ast.literal_eval(line[8:-1])\n",
    "        all_array=[]\n",
    "        labels=[]\n",
    "        for x in dicts:\n",
    "            freq=dicts[x]\n",
    "            cur=[x for _ in range(freq)]\n",
    "            one_label=[label for _ in range(freq)]\n",
    "            all_array+=cur\n",
    "            labels+=one_label\n",
    "        return all_array, labels\n",
    "    "
   ]
  },
  {
   "cell_type": "code",
   "execution_count": 52,
   "id": "832cdd7a",
   "metadata": {
    "pycharm": {
     "name": "#%%\n"
    }
   },
   "outputs": [
    {
     "name": "stderr",
     "output_type": "stream",
     "text": [
      "100%|█████████████████████████████████████████████████████████████████████████████████████| 4/4 [00:00<00:00,  5.93it/s]\n",
      "100%|█████████████████████████████████████████████████████████████████████████████████████| 4/4 [00:00<00:00,  6.10it/s]\n",
      "100%|█████████████████████████████████████████████████████████████████████████████████████| 4/4 [00:00<00:00,  6.06it/s]\n",
      "100%|█████████████████████████████████████████████████████████████████████████████████████| 4/4 [00:00<00:00,  4.87it/s]\n",
      "100%|█████████████████████████████████████████████████████████████████████████████████████| 4/4 [00:00<00:00,  5.94it/s]\n",
      "100%|█████████████████████████████████████████████████████████████████████████████████████| 4/4 [00:00<00:00,  5.89it/s]\n",
      "100%|█████████████████████████████████████████████████████████████████████████████████████| 4/4 [00:00<00:00,  5.71it/s]\n",
      "100%|█████████████████████████████████████████████████████████████████████████████████████| 4/4 [00:00<00:00,  4.88it/s]\n",
      "100%|█████████████████████████████████████████████████████████████████████████████████████| 4/4 [00:00<00:00,  5.96it/s]\n",
      "100%|█████████████████████████████████████████████████████████████████████████████████████| 4/4 [00:00<00:00,  6.04it/s]\n"
     ]
    }
   ],
   "source": [
    "basepath=\"../results/uniform_sample/rand-k-sat/\"\n",
    "for size in [300, 500, 700, 1000,1500]:\n",
    "    for typed in [\"uniform\",'weighted']:\n",
    "        subcase=\"5_{}_{}\".format(size, size)\n",
    "\n",
    "        baselines=['lll','nelson']\n",
    "        new_name_baselines=['LLL','Nelson (ours)']\n",
    "       \n",
    "        for i in tqdm(range(1,5)):\n",
    "                fid=str(i).zfill(4)\n",
    "                all_data=[]\n",
    "                all_labels=[]\n",
    "                for bi in range(len(baselines)):\n",
    "                    filename=os.path.join(basepath, subcase, \"randkcnf_\"+subcase+\"_\"+fid+\".\"+typed+\".\"+baselines[bi]+\".log\")\n",
    "                    datas, labels=read_from_file(filename, new_name_baselines[bi])\n",
    "                    all_data += datas\n",
    "                    all_labels += labels\n",
    "                df=pd.DataFrame({\n",
    "                    \"Number of resamples\": all_data,\n",
    "                    \" \": all_labels\n",
    "                })\n",
    "                \n",
    "                ax=sns.displot(data=df, x=\"Number of resamples\",hue=' ',kind='hist',\n",
    "                               palette=palette, alpha=0.9,\n",
    "                               bins=[0,5,10,15,20,25,30,35,40,45,50,55,60,65,70], \n",
    "                               height=3, aspect=1.7).set(title=\"|X|=|C|={}\".format(size))\n",
    "                ax.set(xlim=(0,70),ylim=(0, 100))\n",
    "                sns.move_legend(ax, \"upper left\", bbox_to_anchor=(0.3, 1))\n",
    "                fname=os.path.join(basepath, subcase,  \"randkcnf_\"+subcase+\"_\"+fid+\".\"+typed+\".pdf\")\n",
    "                plt.savefig(fname, bbox_inches='tight', pad_inches=0)\n",
    "                plt.close()"
   ]
  },
  {
   "cell_type": "code",
   "execution_count": null,
   "id": "c73f1939",
   "metadata": {
    "pycharm": {
     "name": "#%%\n"
    }
   },
   "outputs": [],
   "source": []
  },
  {
   "cell_type": "code",
   "execution_count": null,
   "id": "0bd2462e",
   "metadata": {
    "pycharm": {
     "name": "#%%\n"
    }
   },
   "outputs": [],
   "source": []
  },
  {
   "cell_type": "code",
   "execution_count": null,
   "id": "72ea8bf6",
   "metadata": {
    "pycharm": {
     "name": "#%%\n"
    }
   },
   "outputs": [],
   "source": []
  },
  {
   "cell_type": "code",
   "execution_count": null,
   "id": "608b3d66",
   "metadata": {
    "pycharm": {
     "name": "#%%\n"
    }
   },
   "outputs": [],
   "source": []
  }
 ],
 "metadata": {
  "kernelspec": {
   "display_name": "Python 3 (ipykernel)",
   "language": "python",
   "name": "python3"
  },
  "language_info": {
   "codemirror_mode": {
    "name": "ipython",
    "version": 3
   },
   "file_extension": ".py",
   "mimetype": "text/x-python",
   "name": "python",
   "nbconvert_exporter": "python",
   "pygments_lexer": "ipython3",
   "version": "3.9.12"
  }
 },
 "nbformat": 4,
 "nbformat_minor": 5
}