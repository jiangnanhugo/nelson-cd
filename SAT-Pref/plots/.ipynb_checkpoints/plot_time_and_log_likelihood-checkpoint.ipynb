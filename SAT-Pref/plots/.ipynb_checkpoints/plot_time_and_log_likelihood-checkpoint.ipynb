{
 "cells": [
  {
   "cell_type": "code",
   "execution_count": 1,
   "id": "0606838a",
   "metadata": {},
   "outputs": [],
   "source": [
    "import seaborn as sns\n",
    "import matplotlib\n",
    "%matplotlib inline\n",
    "import matplotlib.pyplot as plt\n",
    "from matplotlib import rc\n",
    "rc(\"font\", **{'family':'serif','serif':['Palatino Linotype']})"
   ]
  },
  {
   "cell_type": "code",
   "execution_count": 20,
   "id": "832cdd7a",
   "metadata": {},
   "outputs": [],
   "source": [
    "clauses=[30, 50, 100, 300,500]\n",
    "Nelson_LL=[-24,0.31,0.456,0.601,0.793]"
   ]
  },
  {
   "cell_type": "code",
   "execution_count": 21,
   "id": "c75d1666",
   "metadata": {},
   "outputs": [
    {
     "data": {
      "image/png": "[encoded data removed]",
      "text/plain": [
       "<Figure size 252x252 with 1 Axes>"
      ]
     },
     "metadata": {
      "needs_background": "light"
     },
     "output_type": "display_data"
    }
   ],
   "source": [
    "sns.set_palette(\"Set1\")\n",
    "fig,ax=plt.subplots()\n",
    "fig.set_size_inches(3.5,3.5)\n",
    "# plt.plot(clauses, NN,  label=\"Forward + Gradient\")\n",
    "plt.plot(clauses[0], Nelson_LL[0], label=\"Nelson\", marker=\"^\")\n",
    "plt.xlabel(\"Input Dimension\", fontsize=14)\n",
    "plt.ylabel(\"Log Likelihood\", fontsize=14)\n",
    "plt.legend(loc=\"best\")\n",
    "fname=\"randKsat-loglike.pdf\"\n",
    "fig.savefig(fname, bbox_inches='tight', pad_inches=0)"
   ]
  },
  {
   "cell_type": "code",
   "execution_count": null,
   "id": "d46f568f",
   "metadata": {},
   "outputs": [],
   "source": []
  }
 ],
 "metadata": {
  "kernelspec": {
   "display_name": "Python 3 (ipykernel)",
   "language": "python",
   "name": "python3"
  },
  "language_info": {
   "codemirror_mode": {
    "name": "ipython",
    "version": 3
   },
   "file_extension": ".py",
   "mimetype": "text/x-python",
   "name": "python",
   "nbconvert_exporter": "python",
   "pygments_lexer": "ipython3",
   "version": "3.9.12"
  }
 },
 "nbformat": 4,
 "nbformat_minor": 5
}
